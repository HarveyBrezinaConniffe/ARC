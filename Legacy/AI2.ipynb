{
 "cells": [
  {
   "cell_type": "markdown",
   "metadata": {},
   "source": [
    "Import relevant packages"
   ]
  },
  {
   "cell_type": "code",
   "execution_count": 2,
   "metadata": {
    "scrolled": true
   },
   "outputs": [],
   "source": [
    "import tensorflow as tf\n",
    "from tensorflow.keras import layers, Sequential\n",
    "from tensorflow.keras.layers import Conv2D, ZeroPadding2D, Activation, Input, concatenate\n",
    "from tensorflow.keras.layers import BatchNormalization\n",
    "from tensorflow.keras.layers import MaxPooling2D\n",
    "from tensorflow.keras.layers import Concatenate\n",
    "from tensorflow.keras.layers import Lambda, Flatten, Dense\n",
    "from tensorflow.keras.optimizers import Adam\n",
    "from tensorflow.keras.regularizers import l2\n",
    "from tensorflow.keras import backend as K\n",
    "from tensorflow.keras.models import Model\n",
    "import json\n",
    "import numpy as np\n",
    "import random\n",
    "import os\n",
    "\n",
    "#tf.enable_eager_execution()\n",
    "#tf.compat.v1.set_random_seed(18)"
   ]
  },
  {
   "cell_type": "markdown",
   "metadata": {},
   "source": [
    "Set up data loading functions."
   ]
  },
  {
   "cell_type": "code",
   "execution_count": 3,
   "metadata": {},
   "outputs": [
    {
     "data": {
      "text/plain": [
       "'2.1.0'"
      ]
     },
     "execution_count": 3,
     "metadata": {},
     "output_type": "execute_result"
    }
   ],
   "source": [
    "tf.__version__"
   ]
  },
  {
   "cell_type": "code",
   "execution_count": 4,
   "metadata": {},
   "outputs": [],
   "source": [
    "# One shot learning - Each network takes input and output and tries to compare if two tasks are the same.\n",
    "Xt = []\n",
    "Yt = []\n",
    "Xv = []\n",
    "Yv = []\n",
    "\n",
    "rng = np.random.default_rng()\n",
    "\n",
    "def load(name):\n",
    "    with open(name) as json_file:\n",
    "        data = json.load(json_file) \n",
    "        ctraintask = []\n",
    "        cvaltask = []\n",
    "        l = len(data['train'])\n",
    "        i = 0\n",
    "        for t in data['train']:\n",
    "            i += 1\n",
    "            cin = np.array(t['input'])\n",
    "            cinr = np.full((30, 30), -1)\n",
    "            cinr[:cin.shape[0], :cin.shape[1]] = cin\n",
    "            cout = np.array(t['output'])\n",
    "            coutr = np.full((30, 30), -1)\n",
    "            coutr[:cout.shape[0], :cout.shape[1]] = cout\n",
    "            cX = np.concatenate((cinr, coutr))\n",
    "            if not i == l:\n",
    "                ctraintask.append(cX)\n",
    "                Yt.append(name)\n",
    "            else:\n",
    "                cvaltask.append(cX)\n",
    "                Yv.append(name)\n",
    "        Xt.append(np.array(ctraintask))\n",
    "        Xv.append(np.array(cvaltask))\n",
    "\n",
    "def testAccuracy(model, N, loops):\n",
    "    right = 0\n",
    "    wrong = 0\n",
    "    for _ in range(loops):\n",
    "        basecategory = random.randint(0, Xv.shape[0]-1)\n",
    "        baseTask = Xv[basecategory][0].reshape(60, 30, 1)\n",
    "        baseProb = model.predict([np.array([baseTask]), np.array([Xt[basecategory][random.randint(0, Xt[basecategory].shape[0]-1)].reshape(60, 30, 1)])])[0][0]\n",
    "        for i in range(0, N):\n",
    "            ccategory = (basecategory+random.randint(1, Xt.shape[0]))%Xt.shape[0]\n",
    "            cindex = random.randint(0, Xt[ccategory].shape[0]-1)\n",
    "            ctask = Xt[ccategory][cindex] \n",
    "            cProb = model.predict([np.array([baseTask]), np.array([ctask.reshape(60, 30, 1)])])\n",
    "            if cProb[0][0] > baseProb:\n",
    "                wrong += 1\n",
    "                break\n",
    "        else:\n",
    "            right += 1\n",
    "    return (100*right)/loops\n",
    "\n",
    "def getBatch(batchsize, training):\n",
    "    if training:\n",
    "        X = Xt\n",
    "        Y = Yt\n",
    "    else:\n",
    "        X = Xv\n",
    "        Y = Yv\n",
    "    categories = rng.choice(X.shape[0], size=(batchsize,), replace=False)\n",
    "    targets = np.zeros((batchsize,))\n",
    "    targets[batchsize//2:] = 1\n",
    "    pairs=[np.zeros((batchsize, 60, 30, 1)) for i in range(2)]\n",
    "    for i in range(batchsize):\n",
    "        category = categories[i]\n",
    "        pairs[0][i,:,:,:] = X[category][random.randint(0, X[category].shape[0]-1)].reshape(60, 30, 1)\n",
    "        if i >= batchsize // 2:\n",
    "            category_2 = category\n",
    "        else:\n",
    "            category_2 = (category + random.randint(1, X.shape[0])) % X.shape[0] \n",
    "        pairs[1][i,:,:,:] = X[category_2][random.randint(0, X[category_2].shape[0]-1)].reshape(60, 30, 1)\n",
    "    return pairs, targets\n",
    "\n",
    "def generate(batchsize, training):\n",
    "    while True:\n",
    "        pairs, targets = getBatch(batchsize, training)\n",
    "        yield (pairs, targets)"
   ]
  },
  {
   "cell_type": "markdown",
   "metadata": {},
   "source": [
    "Load data."
   ]
  },
  {
   "cell_type": "code",
   "execution_count": 5,
   "metadata": {},
   "outputs": [],
   "source": [
    "with os.scandir('training/') as entries:\n",
    "    for entry in entries:\n",
    "        load(\"training/\"+entry.name)\n",
    "\n",
    "with os.scandir('test/') as entries:\n",
    "    for entry in entries:\n",
    "        load(\"test/\"+entry.name)\n",
    "\n",
    "Xt = np.array(Xt)\n",
    "Xv = np.array(Xv)\n",
    "Yt = np.array(Yt)\n",
    "Yv = np.array(Yv)"
   ]
  },
  {
   "cell_type": "markdown",
   "metadata": {},
   "source": [
    "Define model."
   ]
  },
  {
   "cell_type": "code",
   "execution_count": 6,
   "metadata": {},
   "outputs": [],
   "source": [
    "# This function is based off the example in this tutorial: https://towardsdatascience.com/one-shot-learning-with-siamese-networks-using-keras-17f34e75bb3d\n",
    "def get_siamese_model(input_shape):\n",
    "    left_input = Input(input_shape)\n",
    "    right_input = Input(input_shape)\n",
    "\n",
    "    model = Sequential()\n",
    "    model.add(Conv2D(64, (10,10), padding=\"same\", activation='relu', input_shape=input_shape))\n",
    "    model.add(MaxPooling2D())\n",
    "    model.add(Conv2D(128, (7,7), padding=\"same\", activation='relu'))\n",
    "    model.add(MaxPooling2D())\n",
    "    model.add(Conv2D(128, (4,4), padding=\"same\", activation='relu'))\n",
    "    model.add(MaxPooling2D())\n",
    "    model.add(Conv2D(256, (4,4), padding=\"same\", activation='relu'))\n",
    "    model.add(Flatten())\n",
    "    model.add(Dense(4096, activation='sigmoid', name='taskrepresentation'))\n",
    "\n",
    "    encoded_l = model(left_input)\n",
    "    encoded_r = model(right_input)\n",
    "    L1_layer = Lambda(lambda tensors:K.abs(tensors[0] - tensors[1]))\n",
    "    L1_distance = L1_layer([encoded_l, encoded_r])\n",
    "    prediction = Dense(1,activation='sigmoid')(L1_distance)\n",
    "    siamese_net = Model(inputs=[left_input,right_input],outputs=prediction)\n",
    "\n",
    "    return siamese_net"
   ]
  },
  {
   "cell_type": "code",
   "execution_count": 7,
   "metadata": {},
   "outputs": [],
   "source": [
    "model = get_siamese_model((60, 30, 1))"
   ]
  },
  {
   "cell_type": "code",
   "execution_count": 8,
   "metadata": {},
   "outputs": [
    {
     "ename": "ValueError",
     "evalue": "No such layer: sequential_3",
     "output_type": "error",
     "traceback": [
      "\u001b[0;31m---------------------------------------------------------------------------\u001b[0m",
      "\u001b[0;31mValueError\u001b[0m                                Traceback (most recent call last)",
      "\u001b[0;32m<ipython-input-8-d0b1d289ae50>\u001b[0m in \u001b[0;36m<module>\u001b[0;34m\u001b[0m\n\u001b[0;32m----> 1\u001b[0;31m \u001b[0mmodel\u001b[0m\u001b[0;34m.\u001b[0m\u001b[0mget_layer\u001b[0m\u001b[0;34m(\u001b[0m\u001b[0;34m\"sequential_3\"\u001b[0m\u001b[0;34m)\u001b[0m\u001b[0;34m.\u001b[0m\u001b[0moutputs\u001b[0m\u001b[0;34m[\u001b[0m\u001b[0;36m0\u001b[0m\u001b[0;34m]\u001b[0m\u001b[0;34m\u001b[0m\u001b[0;34m\u001b[0m\u001b[0m\n\u001b[0m",
      "\u001b[0;32m~/.local/lib/python3.6/site-packages/tensorflow_core/python/keras/engine/network.py\u001b[0m in \u001b[0;36mget_layer\u001b[0;34m(self, name, index)\u001b[0m\n\u001b[1;32m    546\u001b[0m       \u001b[0;32mif\u001b[0m \u001b[0mlayer\u001b[0m\u001b[0;34m.\u001b[0m\u001b[0mname\u001b[0m \u001b[0;34m==\u001b[0m \u001b[0mname\u001b[0m\u001b[0;34m:\u001b[0m\u001b[0;34m\u001b[0m\u001b[0;34m\u001b[0m\u001b[0m\n\u001b[1;32m    547\u001b[0m         \u001b[0;32mreturn\u001b[0m \u001b[0mlayer\u001b[0m\u001b[0;34m\u001b[0m\u001b[0;34m\u001b[0m\u001b[0m\n\u001b[0;32m--> 548\u001b[0;31m     \u001b[0;32mraise\u001b[0m \u001b[0mValueError\u001b[0m\u001b[0;34m(\u001b[0m\u001b[0;34m'No such layer: '\u001b[0m \u001b[0;34m+\u001b[0m \u001b[0mname\u001b[0m\u001b[0;34m)\u001b[0m\u001b[0;34m\u001b[0m\u001b[0;34m\u001b[0m\u001b[0m\n\u001b[0m\u001b[1;32m    549\u001b[0m \u001b[0;34m\u001b[0m\u001b[0m\n\u001b[1;32m    550\u001b[0m   \u001b[0;34m@\u001b[0m\u001b[0mproperty\u001b[0m\u001b[0;34m\u001b[0m\u001b[0;34m\u001b[0m\u001b[0m\n",
      "\u001b[0;31mValueError\u001b[0m: No such layer: sequential_3"
     ]
    }
   ],
   "source": [
    "model.get_layer(\"sequential_3\").outputs[0]"
   ]
  },
  {
   "cell_type": "markdown",
   "metadata": {},
   "source": [
    "Train model."
   ]
  },
  {
   "cell_type": "code",
   "execution_count": 9,
   "metadata": {
    "scrolled": true
   },
   "outputs": [
    {
     "name": "stdout",
     "output_type": "stream",
     "text": [
      "Model: \"model_1\"\n",
      "__________________________________________________________________________________________________\n",
      "Layer (type)                    Output Shape         Param #     Connected to                     \n",
      "==================================================================================================\n",
      "input_3 (InputLayer)            [(None, 60, 30, 1)]  0                                            \n",
      "__________________________________________________________________________________________________\n",
      "input_4 (InputLayer)            [(None, 60, 30, 1)]  0                                            \n",
      "__________________________________________________________________________________________________\n",
      "sequential_1 (Sequential)       (None, 4096)         23219008    input_3[0][0]                    \n",
      "                                                                 input_4[0][0]                    \n",
      "__________________________________________________________________________________________________\n",
      "lambda_1 (Lambda)               (None, 4096)         0           sequential_1[1][0]               \n",
      "                                                                 sequential_1[2][0]               \n",
      "__________________________________________________________________________________________________\n",
      "dense_1 (Dense)                 (None, 1)            4097        lambda_1[0][0]                   \n",
      "==================================================================================================\n",
      "Total params: 23,223,105\n",
      "Trainable params: 23,223,105\n",
      "Non-trainable params: 0\n",
      "__________________________________________________________________________________________________\n",
      "None\n",
      "0.0\n",
      "WARNING:tensorflow:From <ipython-input-9-d4b5f11b9d72>:11: Model.fit_generator (from tensorflow.python.keras.engine.training) is deprecated and will be removed in a future version.\n",
      "Instructions for updating:\n",
      "Please use Model.fit, which supports generators.\n",
      "WARNING:tensorflow:sample_weight modes were coerced from\n",
      "  ...\n",
      "    to  \n",
      "  ['...']\n",
      "Train for 50 steps\n",
      "50/50 [==============================] - 11s 219ms/step - loss: 0.5558\n",
      "New Best: 55.55555555555556\n",
      "WARNING:tensorflow:sample_weight modes were coerced from\n",
      "  ...\n",
      "    to  \n",
      "  ['...']\n",
      "Train for 50 steps\n",
      "33/50 [==================>...........] - ETA: 3s - loss: 0.4787"
     ]
    },
    {
     "ename": "KeyboardInterrupt",
     "evalue": "",
     "output_type": "error",
     "traceback": [
      "\u001b[0;31m---------------------------------------------------------------------------\u001b[0m",
      "\u001b[0;31mKeyboardInterrupt\u001b[0m                         Traceback (most recent call last)",
      "\u001b[0;32m<ipython-input-9-d4b5f11b9d72>\u001b[0m in \u001b[0;36m<module>\u001b[0;34m\u001b[0m\n\u001b[1;32m     16\u001b[0m             \u001b[0mprint\u001b[0m\u001b[0;34m(\u001b[0m\u001b[0;34m\"New Best: \"\u001b[0m\u001b[0;34m+\u001b[0m\u001b[0mstr\u001b[0m\u001b[0;34m(\u001b[0m\u001b[0mbestAccuracy\u001b[0m\u001b[0;34m)\u001b[0m\u001b[0;34m)\u001b[0m\u001b[0;34m\u001b[0m\u001b[0;34m\u001b[0m\u001b[0m\n\u001b[1;32m     17\u001b[0m \u001b[0;34m\u001b[0m\u001b[0m\n\u001b[0;32m---> 18\u001b[0;31m \u001b[0mtrainmodel\u001b[0m\u001b[0;34m(\u001b[0m\u001b[0;36m100\u001b[0m\u001b[0;34m)\u001b[0m\u001b[0;34m\u001b[0m\u001b[0;34m\u001b[0m\u001b[0m\n\u001b[0m",
      "\u001b[0;32m<ipython-input-9-d4b5f11b9d72>\u001b[0m in \u001b[0;36mtrainmodel\u001b[0;34m(epo)\u001b[0m\n\u001b[1;32m      9\u001b[0m \u001b[0;34m\u001b[0m\u001b[0m\n\u001b[1;32m     10\u001b[0m     \u001b[0;32mfor\u001b[0m \u001b[0mi\u001b[0m \u001b[0;32min\u001b[0m \u001b[0mrange\u001b[0m\u001b[0;34m(\u001b[0m\u001b[0mepo\u001b[0m\u001b[0;34m)\u001b[0m\u001b[0;34m:\u001b[0m\u001b[0;34m\u001b[0m\u001b[0;34m\u001b[0m\u001b[0m\n\u001b[0;32m---> 11\u001b[0;31m         \u001b[0mmodel\u001b[0m\u001b[0;34m.\u001b[0m\u001b[0mfit_generator\u001b[0m\u001b[0;34m(\u001b[0m\u001b[0mgenerate\u001b[0m\u001b[0;34m(\u001b[0m\u001b[0;36m128\u001b[0m\u001b[0;34m,\u001b[0m \u001b[0;32mTrue\u001b[0m\u001b[0;34m)\u001b[0m\u001b[0;34m,\u001b[0m \u001b[0mepochs\u001b[0m\u001b[0;34m=\u001b[0m\u001b[0;36m1\u001b[0m\u001b[0;34m,\u001b[0m \u001b[0msteps_per_epoch\u001b[0m\u001b[0;34m=\u001b[0m\u001b[0;36m50\u001b[0m\u001b[0;34m)\u001b[0m\u001b[0;34m\u001b[0m\u001b[0;34m\u001b[0m\u001b[0m\n\u001b[0m\u001b[1;32m     12\u001b[0m         \u001b[0maccuracy\u001b[0m \u001b[0;34m=\u001b[0m \u001b[0mtestAccuracy\u001b[0m\u001b[0;34m(\u001b[0m\u001b[0mmodel\u001b[0m\u001b[0;34m,\u001b[0m \u001b[0;36m20\u001b[0m\u001b[0;34m,\u001b[0m \u001b[0;36m18\u001b[0m\u001b[0;34m)\u001b[0m\u001b[0;34m\u001b[0m\u001b[0;34m\u001b[0m\u001b[0m\n\u001b[1;32m     13\u001b[0m         \u001b[0;32mif\u001b[0m \u001b[0maccuracy\u001b[0m \u001b[0;34m>\u001b[0m \u001b[0mbestAccuracy\u001b[0m\u001b[0;34m:\u001b[0m\u001b[0;34m\u001b[0m\u001b[0;34m\u001b[0m\u001b[0m\n",
      "\u001b[0;32m~/.local/lib/python3.6/site-packages/tensorflow_core/python/util/deprecation.py\u001b[0m in \u001b[0;36mnew_func\u001b[0;34m(*args, **kwargs)\u001b[0m\n\u001b[1;32m    322\u001b[0m               \u001b[0;34m'in a future version'\u001b[0m \u001b[0;32mif\u001b[0m \u001b[0mdate\u001b[0m \u001b[0;32mis\u001b[0m \u001b[0;32mNone\u001b[0m \u001b[0;32melse\u001b[0m \u001b[0;34m(\u001b[0m\u001b[0;34m'after %s'\u001b[0m \u001b[0;34m%\u001b[0m \u001b[0mdate\u001b[0m\u001b[0;34m)\u001b[0m\u001b[0;34m,\u001b[0m\u001b[0;34m\u001b[0m\u001b[0;34m\u001b[0m\u001b[0m\n\u001b[1;32m    323\u001b[0m               instructions)\n\u001b[0;32m--> 324\u001b[0;31m       \u001b[0;32mreturn\u001b[0m \u001b[0mfunc\u001b[0m\u001b[0;34m(\u001b[0m\u001b[0;34m*\u001b[0m\u001b[0margs\u001b[0m\u001b[0;34m,\u001b[0m \u001b[0;34m**\u001b[0m\u001b[0mkwargs\u001b[0m\u001b[0;34m)\u001b[0m\u001b[0;34m\u001b[0m\u001b[0;34m\u001b[0m\u001b[0m\n\u001b[0m\u001b[1;32m    325\u001b[0m     return tf_decorator.make_decorator(\n\u001b[1;32m    326\u001b[0m         \u001b[0mfunc\u001b[0m\u001b[0;34m,\u001b[0m \u001b[0mnew_func\u001b[0m\u001b[0;34m,\u001b[0m \u001b[0;34m'deprecated'\u001b[0m\u001b[0;34m,\u001b[0m\u001b[0;34m\u001b[0m\u001b[0;34m\u001b[0m\u001b[0m\n",
      "\u001b[0;32m~/.local/lib/python3.6/site-packages/tensorflow_core/python/keras/engine/training.py\u001b[0m in \u001b[0;36mfit_generator\u001b[0;34m(self, generator, steps_per_epoch, epochs, verbose, callbacks, validation_data, validation_steps, validation_freq, class_weight, max_queue_size, workers, use_multiprocessing, shuffle, initial_epoch)\u001b[0m\n\u001b[1;32m   1304\u001b[0m         \u001b[0muse_multiprocessing\u001b[0m\u001b[0;34m=\u001b[0m\u001b[0muse_multiprocessing\u001b[0m\u001b[0;34m,\u001b[0m\u001b[0;34m\u001b[0m\u001b[0;34m\u001b[0m\u001b[0m\n\u001b[1;32m   1305\u001b[0m         \u001b[0mshuffle\u001b[0m\u001b[0;34m=\u001b[0m\u001b[0mshuffle\u001b[0m\u001b[0;34m,\u001b[0m\u001b[0;34m\u001b[0m\u001b[0;34m\u001b[0m\u001b[0m\n\u001b[0;32m-> 1306\u001b[0;31m         initial_epoch=initial_epoch)\n\u001b[0m\u001b[1;32m   1307\u001b[0m \u001b[0;34m\u001b[0m\u001b[0m\n\u001b[1;32m   1308\u001b[0m   @deprecation.deprecated(\n",
      "\u001b[0;32m~/.local/lib/python3.6/site-packages/tensorflow_core/python/keras/engine/training.py\u001b[0m in \u001b[0;36mfit\u001b[0;34m(self, x, y, batch_size, epochs, verbose, callbacks, validation_split, validation_data, shuffle, class_weight, sample_weight, initial_epoch, steps_per_epoch, validation_steps, validation_freq, max_queue_size, workers, use_multiprocessing, **kwargs)\u001b[0m\n\u001b[1;32m    817\u001b[0m         \u001b[0mmax_queue_size\u001b[0m\u001b[0;34m=\u001b[0m\u001b[0mmax_queue_size\u001b[0m\u001b[0;34m,\u001b[0m\u001b[0;34m\u001b[0m\u001b[0;34m\u001b[0m\u001b[0m\n\u001b[1;32m    818\u001b[0m         \u001b[0mworkers\u001b[0m\u001b[0;34m=\u001b[0m\u001b[0mworkers\u001b[0m\u001b[0;34m,\u001b[0m\u001b[0;34m\u001b[0m\u001b[0;34m\u001b[0m\u001b[0m\n\u001b[0;32m--> 819\u001b[0;31m         use_multiprocessing=use_multiprocessing)\n\u001b[0m\u001b[1;32m    820\u001b[0m \u001b[0;34m\u001b[0m\u001b[0m\n\u001b[1;32m    821\u001b[0m   def evaluate(self,\n",
      "\u001b[0;32m~/.local/lib/python3.6/site-packages/tensorflow_core/python/keras/engine/training_v2.py\u001b[0m in \u001b[0;36mfit\u001b[0;34m(self, model, x, y, batch_size, epochs, verbose, callbacks, validation_split, validation_data, shuffle, class_weight, sample_weight, initial_epoch, steps_per_epoch, validation_steps, validation_freq, max_queue_size, workers, use_multiprocessing, **kwargs)\u001b[0m\n\u001b[1;32m    340\u001b[0m                 \u001b[0mmode\u001b[0m\u001b[0;34m=\u001b[0m\u001b[0mModeKeys\u001b[0m\u001b[0;34m.\u001b[0m\u001b[0mTRAIN\u001b[0m\u001b[0;34m,\u001b[0m\u001b[0;34m\u001b[0m\u001b[0;34m\u001b[0m\u001b[0m\n\u001b[1;32m    341\u001b[0m                 \u001b[0mtraining_context\u001b[0m\u001b[0;34m=\u001b[0m\u001b[0mtraining_context\u001b[0m\u001b[0;34m,\u001b[0m\u001b[0;34m\u001b[0m\u001b[0;34m\u001b[0m\u001b[0m\n\u001b[0;32m--> 342\u001b[0;31m                 total_epochs=epochs)\n\u001b[0m\u001b[1;32m    343\u001b[0m             \u001b[0mcbks\u001b[0m\u001b[0;34m.\u001b[0m\u001b[0mmake_logs\u001b[0m\u001b[0;34m(\u001b[0m\u001b[0mmodel\u001b[0m\u001b[0;34m,\u001b[0m \u001b[0mepoch_logs\u001b[0m\u001b[0;34m,\u001b[0m \u001b[0mtraining_result\u001b[0m\u001b[0;34m,\u001b[0m \u001b[0mModeKeys\u001b[0m\u001b[0;34m.\u001b[0m\u001b[0mTRAIN\u001b[0m\u001b[0;34m)\u001b[0m\u001b[0;34m\u001b[0m\u001b[0;34m\u001b[0m\u001b[0m\n\u001b[1;32m    344\u001b[0m \u001b[0;34m\u001b[0m\u001b[0m\n",
      "\u001b[0;32m~/.local/lib/python3.6/site-packages/tensorflow_core/python/keras/engine/training_v2.py\u001b[0m in \u001b[0;36mrun_one_epoch\u001b[0;34m(model, iterator, execution_function, dataset_size, batch_size, strategy, steps_per_epoch, num_samples, mode, training_context, total_epochs)\u001b[0m\n\u001b[1;32m    126\u001b[0m         step=step, mode=mode, size=current_batch_size) as batch_logs:\n\u001b[1;32m    127\u001b[0m       \u001b[0;32mtry\u001b[0m\u001b[0;34m:\u001b[0m\u001b[0;34m\u001b[0m\u001b[0;34m\u001b[0m\u001b[0m\n\u001b[0;32m--> 128\u001b[0;31m         \u001b[0mbatch_outs\u001b[0m \u001b[0;34m=\u001b[0m \u001b[0mexecution_function\u001b[0m\u001b[0;34m(\u001b[0m\u001b[0miterator\u001b[0m\u001b[0;34m)\u001b[0m\u001b[0;34m\u001b[0m\u001b[0;34m\u001b[0m\u001b[0m\n\u001b[0m\u001b[1;32m    129\u001b[0m       \u001b[0;32mexcept\u001b[0m \u001b[0;34m(\u001b[0m\u001b[0mStopIteration\u001b[0m\u001b[0;34m,\u001b[0m \u001b[0merrors\u001b[0m\u001b[0;34m.\u001b[0m\u001b[0mOutOfRangeError\u001b[0m\u001b[0;34m)\u001b[0m\u001b[0;34m:\u001b[0m\u001b[0;34m\u001b[0m\u001b[0;34m\u001b[0m\u001b[0m\n\u001b[1;32m    130\u001b[0m         \u001b[0;31m# TODO(kaftan): File bug about tf function and errors.OutOfRangeError?\u001b[0m\u001b[0;34m\u001b[0m\u001b[0;34m\u001b[0m\u001b[0;34m\u001b[0m\u001b[0m\n",
      "\u001b[0;32m~/.local/lib/python3.6/site-packages/tensorflow_core/python/keras/engine/training_v2_utils.py\u001b[0m in \u001b[0;36mexecution_function\u001b[0;34m(input_fn)\u001b[0m\n\u001b[1;32m     96\u001b[0m     \u001b[0;31m# `numpy` translates Tensors to values in Eager mode.\u001b[0m\u001b[0;34m\u001b[0m\u001b[0;34m\u001b[0m\u001b[0;34m\u001b[0m\u001b[0m\n\u001b[1;32m     97\u001b[0m     return nest.map_structure(_non_none_constant_value,\n\u001b[0;32m---> 98\u001b[0;31m                               distributed_function(input_fn))\n\u001b[0m\u001b[1;32m     99\u001b[0m \u001b[0;34m\u001b[0m\u001b[0m\n\u001b[1;32m    100\u001b[0m   \u001b[0;32mreturn\u001b[0m \u001b[0mexecution_function\u001b[0m\u001b[0;34m\u001b[0m\u001b[0;34m\u001b[0m\u001b[0m\n",
      "\u001b[0;32m~/.local/lib/python3.6/site-packages/tensorflow_core/python/eager/def_function.py\u001b[0m in \u001b[0;36m__call__\u001b[0;34m(self, *args, **kwds)\u001b[0m\n\u001b[1;32m    566\u001b[0m         \u001b[0mxla_context\u001b[0m\u001b[0;34m.\u001b[0m\u001b[0mExit\u001b[0m\u001b[0;34m(\u001b[0m\u001b[0;34m)\u001b[0m\u001b[0;34m\u001b[0m\u001b[0;34m\u001b[0m\u001b[0m\n\u001b[1;32m    567\u001b[0m     \u001b[0;32melse\u001b[0m\u001b[0;34m:\u001b[0m\u001b[0;34m\u001b[0m\u001b[0;34m\u001b[0m\u001b[0m\n\u001b[0;32m--> 568\u001b[0;31m       \u001b[0mresult\u001b[0m \u001b[0;34m=\u001b[0m \u001b[0mself\u001b[0m\u001b[0;34m.\u001b[0m\u001b[0m_call\u001b[0m\u001b[0;34m(\u001b[0m\u001b[0;34m*\u001b[0m\u001b[0margs\u001b[0m\u001b[0;34m,\u001b[0m \u001b[0;34m**\u001b[0m\u001b[0mkwds\u001b[0m\u001b[0;34m)\u001b[0m\u001b[0;34m\u001b[0m\u001b[0;34m\u001b[0m\u001b[0m\n\u001b[0m\u001b[1;32m    569\u001b[0m \u001b[0;34m\u001b[0m\u001b[0m\n\u001b[1;32m    570\u001b[0m     \u001b[0;32mif\u001b[0m \u001b[0mtracing_count\u001b[0m \u001b[0;34m==\u001b[0m \u001b[0mself\u001b[0m\u001b[0;34m.\u001b[0m\u001b[0m_get_tracing_count\u001b[0m\u001b[0;34m(\u001b[0m\u001b[0;34m)\u001b[0m\u001b[0;34m:\u001b[0m\u001b[0;34m\u001b[0m\u001b[0;34m\u001b[0m\u001b[0m\n",
      "\u001b[0;32m~/.local/lib/python3.6/site-packages/tensorflow_core/python/eager/def_function.py\u001b[0m in \u001b[0;36m_call\u001b[0;34m(self, *args, **kwds)\u001b[0m\n\u001b[1;32m    597\u001b[0m       \u001b[0;31m# In this case we have created variables on the first call, so we run the\u001b[0m\u001b[0;34m\u001b[0m\u001b[0;34m\u001b[0m\u001b[0;34m\u001b[0m\u001b[0m\n\u001b[1;32m    598\u001b[0m       \u001b[0;31m# defunned version which is guaranteed to never create variables.\u001b[0m\u001b[0;34m\u001b[0m\u001b[0;34m\u001b[0m\u001b[0;34m\u001b[0m\u001b[0m\n\u001b[0;32m--> 599\u001b[0;31m       \u001b[0;32mreturn\u001b[0m \u001b[0mself\u001b[0m\u001b[0;34m.\u001b[0m\u001b[0m_stateless_fn\u001b[0m\u001b[0;34m(\u001b[0m\u001b[0;34m*\u001b[0m\u001b[0margs\u001b[0m\u001b[0;34m,\u001b[0m \u001b[0;34m**\u001b[0m\u001b[0mkwds\u001b[0m\u001b[0;34m)\u001b[0m  \u001b[0;31m# pylint: disable=not-callable\u001b[0m\u001b[0;34m\u001b[0m\u001b[0;34m\u001b[0m\u001b[0m\n\u001b[0m\u001b[1;32m    600\u001b[0m     \u001b[0;32melif\u001b[0m \u001b[0mself\u001b[0m\u001b[0;34m.\u001b[0m\u001b[0m_stateful_fn\u001b[0m \u001b[0;32mis\u001b[0m \u001b[0;32mnot\u001b[0m \u001b[0;32mNone\u001b[0m\u001b[0;34m:\u001b[0m\u001b[0;34m\u001b[0m\u001b[0;34m\u001b[0m\u001b[0m\n\u001b[1;32m    601\u001b[0m       \u001b[0;31m# Release the lock early so that multiple threads can perform the call\u001b[0m\u001b[0;34m\u001b[0m\u001b[0;34m\u001b[0m\u001b[0;34m\u001b[0m\u001b[0m\n",
      "\u001b[0;32m~/.local/lib/python3.6/site-packages/tensorflow_core/python/eager/function.py\u001b[0m in \u001b[0;36m__call__\u001b[0;34m(self, *args, **kwargs)\u001b[0m\n\u001b[1;32m   2361\u001b[0m     \u001b[0;32mwith\u001b[0m \u001b[0mself\u001b[0m\u001b[0;34m.\u001b[0m\u001b[0m_lock\u001b[0m\u001b[0;34m:\u001b[0m\u001b[0;34m\u001b[0m\u001b[0;34m\u001b[0m\u001b[0m\n\u001b[1;32m   2362\u001b[0m       \u001b[0mgraph_function\u001b[0m\u001b[0;34m,\u001b[0m \u001b[0margs\u001b[0m\u001b[0;34m,\u001b[0m \u001b[0mkwargs\u001b[0m \u001b[0;34m=\u001b[0m \u001b[0mself\u001b[0m\u001b[0;34m.\u001b[0m\u001b[0m_maybe_define_function\u001b[0m\u001b[0;34m(\u001b[0m\u001b[0margs\u001b[0m\u001b[0;34m,\u001b[0m \u001b[0mkwargs\u001b[0m\u001b[0;34m)\u001b[0m\u001b[0;34m\u001b[0m\u001b[0;34m\u001b[0m\u001b[0m\n\u001b[0;32m-> 2363\u001b[0;31m     \u001b[0;32mreturn\u001b[0m \u001b[0mgraph_function\u001b[0m\u001b[0;34m.\u001b[0m\u001b[0m_filtered_call\u001b[0m\u001b[0;34m(\u001b[0m\u001b[0margs\u001b[0m\u001b[0;34m,\u001b[0m \u001b[0mkwargs\u001b[0m\u001b[0;34m)\u001b[0m  \u001b[0;31m# pylint: disable=protected-access\u001b[0m\u001b[0;34m\u001b[0m\u001b[0;34m\u001b[0m\u001b[0m\n\u001b[0m\u001b[1;32m   2364\u001b[0m \u001b[0;34m\u001b[0m\u001b[0m\n\u001b[1;32m   2365\u001b[0m   \u001b[0;34m@\u001b[0m\u001b[0mproperty\u001b[0m\u001b[0;34m\u001b[0m\u001b[0;34m\u001b[0m\u001b[0m\n",
      "\u001b[0;32m~/.local/lib/python3.6/site-packages/tensorflow_core/python/eager/function.py\u001b[0m in \u001b[0;36m_filtered_call\u001b[0;34m(self, args, kwargs)\u001b[0m\n\u001b[1;32m   1609\u001b[0m          if isinstance(t, (ops.Tensor,\n\u001b[1;32m   1610\u001b[0m                            resource_variable_ops.BaseResourceVariable))),\n\u001b[0;32m-> 1611\u001b[0;31m         self.captured_inputs)\n\u001b[0m\u001b[1;32m   1612\u001b[0m \u001b[0;34m\u001b[0m\u001b[0m\n\u001b[1;32m   1613\u001b[0m   \u001b[0;32mdef\u001b[0m \u001b[0m_call_flat\u001b[0m\u001b[0;34m(\u001b[0m\u001b[0mself\u001b[0m\u001b[0;34m,\u001b[0m \u001b[0margs\u001b[0m\u001b[0;34m,\u001b[0m \u001b[0mcaptured_inputs\u001b[0m\u001b[0;34m,\u001b[0m \u001b[0mcancellation_manager\u001b[0m\u001b[0;34m=\u001b[0m\u001b[0;32mNone\u001b[0m\u001b[0;34m)\u001b[0m\u001b[0;34m:\u001b[0m\u001b[0;34m\u001b[0m\u001b[0;34m\u001b[0m\u001b[0m\n",
      "\u001b[0;32m~/.local/lib/python3.6/site-packages/tensorflow_core/python/eager/function.py\u001b[0m in \u001b[0;36m_call_flat\u001b[0;34m(self, args, captured_inputs, cancellation_manager)\u001b[0m\n\u001b[1;32m   1690\u001b[0m       \u001b[0;31m# No tape is watching; skip to running the function.\u001b[0m\u001b[0;34m\u001b[0m\u001b[0;34m\u001b[0m\u001b[0;34m\u001b[0m\u001b[0m\n\u001b[1;32m   1691\u001b[0m       return self._build_call_outputs(self._inference_function.call(\n\u001b[0;32m-> 1692\u001b[0;31m           ctx, args, cancellation_manager=cancellation_manager))\n\u001b[0m\u001b[1;32m   1693\u001b[0m     forward_backward = self._select_forward_and_backward_functions(\n\u001b[1;32m   1694\u001b[0m         \u001b[0margs\u001b[0m\u001b[0;34m,\u001b[0m\u001b[0;34m\u001b[0m\u001b[0;34m\u001b[0m\u001b[0m\n",
      "\u001b[0;32m~/.local/lib/python3.6/site-packages/tensorflow_core/python/eager/function.py\u001b[0m in \u001b[0;36mcall\u001b[0;34m(self, ctx, args, cancellation_manager)\u001b[0m\n\u001b[1;32m    543\u001b[0m               \u001b[0minputs\u001b[0m\u001b[0;34m=\u001b[0m\u001b[0margs\u001b[0m\u001b[0;34m,\u001b[0m\u001b[0;34m\u001b[0m\u001b[0;34m\u001b[0m\u001b[0m\n\u001b[1;32m    544\u001b[0m               \u001b[0mattrs\u001b[0m\u001b[0;34m=\u001b[0m\u001b[0;34m(\u001b[0m\u001b[0;34m\"executor_type\"\u001b[0m\u001b[0;34m,\u001b[0m \u001b[0mexecutor_type\u001b[0m\u001b[0;34m,\u001b[0m \u001b[0;34m\"config_proto\"\u001b[0m\u001b[0;34m,\u001b[0m \u001b[0mconfig\u001b[0m\u001b[0;34m)\u001b[0m\u001b[0;34m,\u001b[0m\u001b[0;34m\u001b[0m\u001b[0;34m\u001b[0m\u001b[0m\n\u001b[0;32m--> 545\u001b[0;31m               ctx=ctx)\n\u001b[0m\u001b[1;32m    546\u001b[0m         \u001b[0;32melse\u001b[0m\u001b[0;34m:\u001b[0m\u001b[0;34m\u001b[0m\u001b[0;34m\u001b[0m\u001b[0m\n\u001b[1;32m    547\u001b[0m           outputs = execute.execute_with_cancellation(\n",
      "\u001b[0;32m~/.local/lib/python3.6/site-packages/tensorflow_core/python/eager/execute.py\u001b[0m in \u001b[0;36mquick_execute\u001b[0;34m(op_name, num_outputs, inputs, attrs, ctx, name)\u001b[0m\n\u001b[1;32m     59\u001b[0m     tensors = pywrap_tensorflow.TFE_Py_Execute(ctx._handle, device_name,\n\u001b[1;32m     60\u001b[0m                                                \u001b[0mop_name\u001b[0m\u001b[0;34m,\u001b[0m \u001b[0minputs\u001b[0m\u001b[0;34m,\u001b[0m \u001b[0mattrs\u001b[0m\u001b[0;34m,\u001b[0m\u001b[0;34m\u001b[0m\u001b[0;34m\u001b[0m\u001b[0m\n\u001b[0;32m---> 61\u001b[0;31m                                                num_outputs)\n\u001b[0m\u001b[1;32m     62\u001b[0m   \u001b[0;32mexcept\u001b[0m \u001b[0mcore\u001b[0m\u001b[0;34m.\u001b[0m\u001b[0m_NotOkStatusException\u001b[0m \u001b[0;32mas\u001b[0m \u001b[0me\u001b[0m\u001b[0;34m:\u001b[0m\u001b[0;34m\u001b[0m\u001b[0;34m\u001b[0m\u001b[0m\n\u001b[1;32m     63\u001b[0m     \u001b[0;32mif\u001b[0m \u001b[0mname\u001b[0m \u001b[0;32mis\u001b[0m \u001b[0;32mnot\u001b[0m \u001b[0;32mNone\u001b[0m\u001b[0;34m:\u001b[0m\u001b[0;34m\u001b[0m\u001b[0;34m\u001b[0m\u001b[0m\n",
      "\u001b[0;31mKeyboardInterrupt\u001b[0m: "
     ]
    }
   ],
   "source": [
    "model = get_siamese_model((60, 30, 1))\n",
    "print(model.summary())\n",
    "optimizer = Adam(lr = 0.00006)\n",
    "model.compile(loss=\"binary_crossentropy\", optimizer=optimizer)\n",
    "print(testAccuracy(model, 10, 18))\n",
    "\n",
    "def trainmodel(epo):\n",
    "    bestAccuracy = 0\n",
    "\n",
    "    for i in range(epo):\n",
    "        model.fit_generator(generate(128, True), epochs=1, steps_per_epoch=50)\n",
    "        accuracy = testAccuracy(model, 20, 18)\n",
    "        if accuracy > bestAccuracy:\n",
    "            model.save_weights(\"bestCheckpoint/best\")\n",
    "            bestAccuracy = accuracy\n",
    "            print(\"New Best: \"+str(bestAccuracy))\n",
    "\n",
    "trainmodel(100)"
   ]
  },
  {
   "cell_type": "code",
   "execution_count": null,
   "metadata": {},
   "outputs": [],
   "source": [
    "n = 12\n",
    "k = 10\n",
    "ctask1 = Xt[n][0].reshape(60, 30, 1)\n",
    "plt.imshow(ctask1.reshape(60, 30))\n",
    "plt.colorbar()\n",
    "plt.show()\n",
    "ctask2 = Xv[k][0].reshape(60, 30, 1)\n",
    "plt.imshow(ctask2.reshape(60, 30))\n",
    "plt.colorbar()\n",
    "plt.show()\n",
    "taskin = []\n",
    "taskin.append(tf.convert_to_tensor(np.array([ctask1.astype(np.float32)])))\n",
    "taskin.append(tf.convert_to_tensor(np.array([ctask2.astype(np.float32)])))\n",
    "\n",
    "print(model(taskin))"
   ]
  },
  {
   "cell_type": "markdown",
   "metadata": {},
   "source": [
    "Adversarial Generation."
   ]
  },
  {
   "cell_type": "code",
   "execution_count": null,
   "metadata": {},
   "outputs": [],
   "source": [
    "import matplotlib.pyplot as plt\n",
    "model = get_siamese_model((60, 30, 1))\n",
    "model.load_weights(\"bestCheckpoint/best\")"
   ]
  },
  {
   "cell_type": "code",
   "execution_count": null,
   "metadata": {},
   "outputs": [],
   "source": [
    "from timeit import default_timer as timer\n",
    "import random"
   ]
  },
  {
   "cell_type": "code",
   "execution_count": null,
   "metadata": {},
   "outputs": [],
   "source": [
    "#sampletask = [np.array([AI.Xt[0][0].reshape(60,30,1)]), np.array([AI.Xt[1][1].reshape(60,30,1)])]\n",
    "loss_object = tf.keras.losses.BinaryCrossentropy()\n",
    "opt = tf.keras.optimizers.Adam(learning_rate=0.01)\n",
    "\n",
    "def getGradients(taskin):\n",
    "    taskin[0] = tf.convert_to_tensor(taskin[0].astype(np.float32))\n",
    "    taskin[1] = tf.convert_to_tensor(taskin[1].astype(np.float32))\n",
    "    with tf.GradientTape() as tape:\n",
    "        tape.watch(taskin)\n",
    "        prediction = model(taskin)\n",
    "        loss = loss_object(tf.convert_to_tensor(np.array([1]).reshape(1, 1)), prediction)\n",
    "    gradient = tape.gradient(loss, taskin)\n",
    "    #signs = tf.sign(gradient)\n",
    "    return [gradient[1].numpy()[0][30:], loss, prediction]\n",
    "\n",
    "def generateTask(examples, cin, l, accthresh, verbose):\n",
    "    cin = cin.astype(np.float64)\n",
    "    lasterr = 99999\n",
    "    for i in range(1000):\n",
    "        grads = np.zeros((30, 30, 1))\n",
    "        err = 0\n",
    "        acc = 0\n",
    "        for e in examples:\n",
    "            sampletask = [np.array([e]), np.array([cin.reshape(60,30,1)])]\n",
    "            result = getGradients(sampletask)\n",
    "            grads += result[0]\n",
    "            err += result[1].numpy()\n",
    "            acc += result[2].numpy()[0][0]\n",
    "        grads /= len(examples)\n",
    "        err /= len(examples)\n",
    "        acc /= len(examples)\n",
    "        grads *= l\n",
    "        adjustment = np.zeros((60,30,1))\n",
    "        adjustment[30:, :, :] = grads\n",
    "        cin -= adjustment\n",
    "        np.clip(cin, -1, 9, out=cin)\n",
    "        if verbose:\n",
    "            if i%100 == 0:\n",
    "                print(\"EPOCH \"+str(i)+\": \"+str(err)+\" \"+str(acc))\n",
    "            if i%500 == 0:\n",
    "                out = cin.reshape(60, 30)[30:, :]\n",
    "                plt.imshow(out)\n",
    "                plt.colorbar()\n",
    "                plt.show()\n",
    "        if acc*100 > accthresh:\n",
    "            if verbose:\n",
    "                print(\"STOPPING AT \"+str(err))\n",
    "            break\n",
    "    out = cin.reshape(60, 30)[30:, :]\n",
    "    return out\n",
    "\n",
    "def generateTaskAdam(examples, cin, l, accthresh, verbose):\n",
    "    cutoff = 10\n",
    "    referencetasks = []\n",
    "    outputtasks = []\n",
    "    cin = cin.reshape(60, 30, 1)\n",
    "    for e in examples:\n",
    "        referencetasks.append(e)\n",
    "        outputtasks.append(cin)\n",
    "    referencetasks = tf.Variable(tf.convert_to_tensor(np.array(referencetasks).astype(np.float32)))\n",
    "    adjusttask = tf.Variable(tf.convert_to_tensor(np.array(cin[30:, :]).astype(np.float32)))  \n",
    "    outputtasks = tf.Variable(tf.convert_to_tensor(np.array(outputtasks).astype(np.float32)))\n",
    "    starttime = timer()\n",
    "    for i in range(1000):\n",
    "        if timer()-starttime > 5:\n",
    "            if verbose:\n",
    "                print(\"MAX TIME EXCEEDED\")\n",
    "            break\n",
    "        taskin = [referencetasks, outputtasks]\n",
    "        with tf.GradientTape() as tape:\n",
    "            tape.watch(taskin)\n",
    "            prediction = model(taskin)\n",
    "            loss = loss_object(tf.convert_to_tensor(np.array([1]*len(examples)).reshape(prediction.shape)), prediction)\n",
    "        gradient = tape.gradient(loss, taskin)\n",
    "        grad = np.mean(gradient[1], axis=0)[30:, :]\n",
    "        opt.apply_gradients(zip([grad], [adjusttask]))\n",
    "        \n",
    "        outputtasks = []\n",
    "        cin[30:, :] = adjusttask.numpy()\n",
    "        for e in examples:\n",
    "            outputtasks.append(cin)\n",
    "        outputtasks = tf.Variable(tf.convert_to_tensor(np.array(outputtasks).astype(np.float32)))\n",
    "        acc = np.mean(prediction)*100\n",
    "        if acc > accthresh:\n",
    "            if verbose:\n",
    "                print(\"ENDING AT EPOCH \"+str(i)+\": \"+str(np.mean(loss))+\" \"+str(acc))\n",
    "            break\n",
    "        if i%100 == 0:\n",
    "            if verbose:\n",
    "                print(\"EPOCH \"+str(i)+\": \"+str(np.mean(loss))+\" \"+str(acc))\n",
    "    out = cin.reshape(60, 30)[30:, :]\n",
    "    return out\n",
    "\n",
    "def generateExample(taskclass, thresh, adam):\n",
    "    examples = []\n",
    "    for i in range(Xt[taskclass].shape[0]):\n",
    "        examples.append(Xt[taskclass][i].reshape(60,30,1).astype(np.float64))\n",
    "    cin = np.array([Xv[taskclass][0].reshape(60,30,1)])\n",
    "    cin[0][30:, :, :] = cin[0][:30, :, :]\n",
    "    if adam:\n",
    "        out = generateTaskAdam(examples, cin, 0.5, thresh, False)\n",
    "    else:\n",
    "        out = generateTask(examples, cin, 0.5, thresh, False)\n",
    "    cout = cin[0].reshape(60, 30)\n",
    "    cout[30:, :] = out\n",
    "    return cout"
   ]
  },
  {
   "cell_type": "markdown",
   "metadata": {},
   "source": [
    "Adversarial Loop"
   ]
  },
  {
   "cell_type": "code",
   "execution_count": null,
   "metadata": {},
   "outputs": [],
   "source": [
    "Xadv = []\n",
    "Yadv = []\n",
    "def genAdv(batchsize):\n",
    "    X = Xt\n",
    "    Y = Yt\n",
    "    categories = rng.choice(X.shape[0], size=(batchsize,), replace=False)\n",
    "    targets = np.zeros((batchsize,))\n",
    "    pairs = [np.zeros((batchsize, 60, 30, 1)) for i in range(2)]\n",
    "    for i in range(batchsize):\n",
    "        category = categories[i]\n",
    "        pairs[0][i, :, :, :] = X[category][random.randint(0, X[category].shape[0]-1)].reshape(60, 30, 1)\n",
    "        pairs[1][i, :, :, :] = generateExample(category, 80, True).reshape(60, 30, 1)\n",
    "    return pairs, targets\n",
    "\n",
    "def getBatchMixed(batchsize, training):\n",
    "    pairs1, targets1 = getBatch(batchsize//2, training)\n",
    "    pairs2, targets2 = genAdv(batchsize//2)\n",
    "    pairs = []\n",
    "    targets = np.append(targets1, targets2)\n",
    "    pairs.append(np.append(pairs1[0], pairs2[0], axis=0))\n",
    "    pairs.append(np.append(pairs1[1], pairs2[1], axis=0))\n",
    "    return pairs, targets\n",
    "\n",
    "def generateMixed(batchsize, training):\n",
    "    while True:\n",
    "        pairs, targets = getBatchMixed(batchsize, training)\n",
    "        yield (pairs, targets)\n",
    "\n",
    "optimizer = Adam(lr = 0.00006)\n",
    "model.compile(loss=\"binary_crossentropy\", optimizer=optimizer)"
   ]
  },
  {
   "cell_type": "code",
   "execution_count": null,
   "metadata": {},
   "outputs": [],
   "source": [
    "trackedclasses = rng.choice(Xt.shape[0], size=(5,), replace=False)\n",
    "\n",
    "print(\"Ground Truth\")\n",
    "for i in trackedclasses:\n",
    "    correct = Xv[i][0]\n",
    "    plt.imshow(correct)\n",
    "    plt.colorbar()\n",
    "    plt.show()\n",
    "\n",
    "epo = 100\n",
    "for i in range(epo):\n",
    "    model.fit_generator(generateMixed(128, True), epochs=1, steps_per_epoch=1)\n",
    "    accuracy = testAccuracy(model, 20, 18)\n",
    "    print(\"EPOCH \"+str(i)+\" ACCURACY \"+str(accuracy))\n",
    "    for k in trackedclasses:\n",
    "        out = generateExample(k, 80, True)\n",
    "        plt.imshow(out)\n",
    "        plt.colorbar()\n",
    "        plt.show()"
   ]
  },
  {
   "cell_type": "code",
   "execution_count": null,
   "metadata": {},
   "outputs": [],
   "source": [
    "taskclass = 5\n",
    "examples = []\n",
    "for i in range(Xt[taskclass].shape[0]):\n",
    "    examples.append(Xt[taskclass][i].reshape(60,30,1).astype(np.float64))\n",
    "cin = np.array([Xv[taskclass][0].reshape(60,30,1)])\n",
    "cin[0][30:, :, :] = cin[0][:30, :, :]\n",
    "generateTaskAdam(examples, cin, 0.5, 80, False)"
   ]
  },
  {
   "cell_type": "markdown",
   "metadata": {},
   "source": [
    "*OPTIONAL* Test to compare ADAM to Batch Gradient Descent"
   ]
  },
  {
   "cell_type": "code",
   "execution_count": null,
   "metadata": {},
   "outputs": [],
   "source": [
    "cclass = random.randint(0, Xt.shape[0])\n",
    "t1 = timer()\n",
    "out = generateExample(cclass, 80, True)\n",
    "t2 = timer()\n",
    "outtrad = generateExample(cclass, 80, False)\n",
    "t3 = timer()\n",
    "correct = Xv[cclass][0]\n",
    "print(\"ADAM took \"+str(t2-t1))\n",
    "plt.imshow(out)\n",
    "plt.colorbar()\n",
    "plt.show()\n",
    "print(\"Batch Gradient Descent took \"+str(t3-t2))\n",
    "plt.imshow(outtrad)\n",
    "plt.colorbar()\n",
    "plt.show()\n",
    "print(\"Ground truth\")\n",
    "plt.imshow(correct)\n",
    "plt.colorbar()\n",
    "plt.show()"
   ]
  },
  {
   "cell_type": "markdown",
   "metadata": {},
   "source": [
    "*OPTIONAL* Test to calculate average time"
   ]
  },
  {
   "cell_type": "code",
   "execution_count": null,
   "metadata": {},
   "outputs": [],
   "source": [
    "cclass = random.randint(0, Xt.shape[0])\n",
    "ttimes = 0\n",
    "cycles = 40\n",
    "for i in range(cycles):\n",
    "    cclass = random.randint(0, Xt.shape[0]-1)\n",
    "    t1 = timer()\n",
    "    out = generateExample(cclass, 80, True)\n",
    "    t2 = timer()\n",
    "    ttimes += t2-t1\n",
    "    print(t2-t1)\n",
    "avgtime = ttimes/cycles\n",
    "print(\"AVERAGE TIME \"+str(avgtime))"
   ]
  },
  {
   "cell_type": "code",
   "execution_count": null,
   "metadata": {},
   "outputs": [],
   "source": [
    "Xadv = []\n",
    "Yadv = []\n",
    "for i in range(Xt.shape[0]):"
   ]
  },
  {
   "cell_type": "code",
   "execution_count": null,
   "metadata": {},
   "outputs": [],
   "source": [
    "print(Xt.shape[0])\n",
    "n = 170\n",
    "print(len(Xt[n]))\n",
    "plt.imshow(Xt[n][1].reshape(60, 30))\n",
    "plt.colorbar()\n",
    "plt.show()"
   ]
  },
  {
   "cell_type": "code",
   "execution_count": null,
   "metadata": {},
   "outputs": [],
   "source": [
    "plt.imshow(Xt[n][0].reshape(60, 30))\n",
    "plt.colorbar()\n",
    "plt.show()\n",
    "plt.imshow(Xt[n][1].reshape(60, 30))\n",
    "plt.colorbar()\n",
    "plt.show()\n",
    "plt.imshow(Xv[n][0].reshape(60, 30))\n",
    "plt.colorbar()\n",
    "plt.show()\n",
    "examples = [Xt[n][0].reshape(60,30,1).astype(np.float64), Xt[n][1].reshape(60,30,1).astype(np.float64)] \n",
    "cin = np.array([Xv[n][0].reshape(60,30,1)])\n",
    "cin[0][30:, :, :] = cin[0][:30, :, :]\n",
    "#cin[0][30:, :, :] = np.random.randint(-1, 10, size=(30, 30, 1))\n",
    "#cin[0][30:, :, :] = np.zeros((30, 30, 1))\n",
    "#sampletask[1][0][30:, :, :] = np.random.randint(-1, 11, size=(30, 30, 1))\n",
    "#plt.imshow(cin.reshape(60, 30))\n",
    "#plt.colorbar()\n",
    "#plt.show()\n",
    "#out = generateTask(examples, cin, 10, 40000)\n",
    "#plt.imshow(out)\n",
    "#plt.colorbar()\n",
    "#plt.show()"
   ]
  },
  {
   "cell_type": "code",
   "execution_count": null,
   "metadata": {},
   "outputs": [],
   "source": []
  }
 ],
 "metadata": {
  "kernelspec": {
   "display_name": "Python 3",
   "language": "python",
   "name": "python3"
  },
  "language_info": {
   "codemirror_mode": {
    "name": "ipython",
    "version": 3
   },
   "file_extension": ".py",
   "mimetype": "text/x-python",
   "name": "python",
   "nbconvert_exporter": "python",
   "pygments_lexer": "ipython3",
   "version": "3.6.9"
  }
 },
 "nbformat": 4,
 "nbformat_minor": 2
}
