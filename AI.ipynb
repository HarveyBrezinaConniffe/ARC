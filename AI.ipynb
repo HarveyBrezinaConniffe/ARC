{
 "cells": [
  {
   "cell_type": "markdown",
   "metadata": {},
   "source": [
    "Import relevant packages"
   ]
  },
  {
   "cell_type": "code",
   "execution_count": 1,
   "metadata": {
    "scrolled": true
   },
   "outputs": [
    {
     "name": "stderr",
     "output_type": "stream",
     "text": [
      "/home/harvey/.local/lib/python3.6/site-packages/tensorflow/python/framework/dtypes.py:516: FutureWarning: Passing (type, 1) or '1type' as a synonym of type is deprecated; in a future version of numpy, it will be understood as (type, (1,)) / '(1,)type'.\n",
      "  _np_qint8 = np.dtype([(\"qint8\", np.int8, 1)])\n",
      "/home/harvey/.local/lib/python3.6/site-packages/tensorflow/python/framework/dtypes.py:517: FutureWarning: Passing (type, 1) or '1type' as a synonym of type is deprecated; in a future version of numpy, it will be understood as (type, (1,)) / '(1,)type'.\n",
      "  _np_quint8 = np.dtype([(\"quint8\", np.uint8, 1)])\n",
      "/home/harvey/.local/lib/python3.6/site-packages/tensorflow/python/framework/dtypes.py:518: FutureWarning: Passing (type, 1) or '1type' as a synonym of type is deprecated; in a future version of numpy, it will be understood as (type, (1,)) / '(1,)type'.\n",
      "  _np_qint16 = np.dtype([(\"qint16\", np.int16, 1)])\n",
      "/home/harvey/.local/lib/python3.6/site-packages/tensorflow/python/framework/dtypes.py:519: FutureWarning: Passing (type, 1) or '1type' as a synonym of type is deprecated; in a future version of numpy, it will be understood as (type, (1,)) / '(1,)type'.\n",
      "  _np_quint16 = np.dtype([(\"quint16\", np.uint16, 1)])\n",
      "/home/harvey/.local/lib/python3.6/site-packages/tensorflow/python/framework/dtypes.py:520: FutureWarning: Passing (type, 1) or '1type' as a synonym of type is deprecated; in a future version of numpy, it will be understood as (type, (1,)) / '(1,)type'.\n",
      "  _np_qint32 = np.dtype([(\"qint32\", np.int32, 1)])\n",
      "/home/harvey/.local/lib/python3.6/site-packages/tensorflow/python/framework/dtypes.py:525: FutureWarning: Passing (type, 1) or '1type' as a synonym of type is deprecated; in a future version of numpy, it will be understood as (type, (1,)) / '(1,)type'.\n",
      "  np_resource = np.dtype([(\"resource\", np.ubyte, 1)])\n",
      "/home/harvey/.local/lib/python3.6/site-packages/tensorboard/compat/tensorflow_stub/dtypes.py:541: FutureWarning: Passing (type, 1) or '1type' as a synonym of type is deprecated; in a future version of numpy, it will be understood as (type, (1,)) / '(1,)type'.\n",
      "  _np_qint8 = np.dtype([(\"qint8\", np.int8, 1)])\n",
      "/home/harvey/.local/lib/python3.6/site-packages/tensorboard/compat/tensorflow_stub/dtypes.py:542: FutureWarning: Passing (type, 1) or '1type' as a synonym of type is deprecated; in a future version of numpy, it will be understood as (type, (1,)) / '(1,)type'.\n",
      "  _np_quint8 = np.dtype([(\"quint8\", np.uint8, 1)])\n",
      "/home/harvey/.local/lib/python3.6/site-packages/tensorboard/compat/tensorflow_stub/dtypes.py:543: FutureWarning: Passing (type, 1) or '1type' as a synonym of type is deprecated; in a future version of numpy, it will be understood as (type, (1,)) / '(1,)type'.\n",
      "  _np_qint16 = np.dtype([(\"qint16\", np.int16, 1)])\n",
      "/home/harvey/.local/lib/python3.6/site-packages/tensorboard/compat/tensorflow_stub/dtypes.py:544: FutureWarning: Passing (type, 1) or '1type' as a synonym of type is deprecated; in a future version of numpy, it will be understood as (type, (1,)) / '(1,)type'.\n",
      "  _np_quint16 = np.dtype([(\"quint16\", np.uint16, 1)])\n",
      "/home/harvey/.local/lib/python3.6/site-packages/tensorboard/compat/tensorflow_stub/dtypes.py:545: FutureWarning: Passing (type, 1) or '1type' as a synonym of type is deprecated; in a future version of numpy, it will be understood as (type, (1,)) / '(1,)type'.\n",
      "  _np_qint32 = np.dtype([(\"qint32\", np.int32, 1)])\n",
      "/home/harvey/.local/lib/python3.6/site-packages/tensorboard/compat/tensorflow_stub/dtypes.py:550: FutureWarning: Passing (type, 1) or '1type' as a synonym of type is deprecated; in a future version of numpy, it will be understood as (type, (1,)) / '(1,)type'.\n",
      "  np_resource = np.dtype([(\"resource\", np.ubyte, 1)])\n"
     ]
    }
   ],
   "source": [
    "import tensorflow as tf\n",
    "from tensorflow.keras import layers, Sequential\n",
    "from tensorflow.keras.layers import Conv2D, ZeroPadding2D, Activation, Input, concatenate\n",
    "from tensorflow.keras.layers import BatchNormalization\n",
    "from tensorflow.keras.layers import MaxPooling2D\n",
    "from tensorflow.keras.layers import Concatenate\n",
    "from tensorflow.keras.layers import Lambda, Flatten, Dense\n",
    "from tensorflow.keras.optimizers import Adam\n",
    "from tensorflow.keras.regularizers import l2\n",
    "from tensorflow.keras import backend as K\n",
    "from tensorflow.keras.models import Model\n",
    "import json\n",
    "import numpy as np\n",
    "import random\n",
    "import os\n",
    "\n",
    "tf.enable_eager_execution()\n",
    "#tf.compat.v1.set_random_seed(18)"
   ]
  },
  {
   "cell_type": "markdown",
   "metadata": {},
   "source": [
    "Set up data loading functions."
   ]
  },
  {
   "cell_type": "code",
   "execution_count": 2,
   "metadata": {},
   "outputs": [
    {
     "data": {
      "text/plain": [
       "'1.14.0'"
      ]
     },
     "execution_count": 2,
     "metadata": {},
     "output_type": "execute_result"
    }
   ],
   "source": [
    "tf.__version__"
   ]
  },
  {
   "cell_type": "code",
   "execution_count": 7,
   "metadata": {},
   "outputs": [],
   "source": [
    "# One shot learning - Each network takes input and output and tries to compare if two tasks are the same.\n",
    "Xt = []\n",
    "Yt = []\n",
    "Xv = []\n",
    "Yv = []\n",
    "\n",
    "rng = np.random.default_rng()\n",
    "\n",
    "def load(name):\n",
    "    with open(name) as json_file:\n",
    "        data = json.load(json_file) \n",
    "        ctraintask = []\n",
    "        cvaltask = []\n",
    "        l = len(data['train'])\n",
    "        i = 0\n",
    "        for t in data['train']:\n",
    "            i += 1\n",
    "            cin = np.array(t['input'])\n",
    "            cinr = np.full((30, 30), -1)\n",
    "            cinr[:cin.shape[0], :cin.shape[1]] = cin\n",
    "            cout = np.array(t['output'])\n",
    "            coutr = np.full((30, 30), -1)\n",
    "            coutr[:cout.shape[0], :cout.shape[1]] = cout\n",
    "            cX = np.concatenate((cinr, coutr))\n",
    "            if not i == l:\n",
    "                ctraintask.append(cX)\n",
    "                Yt.append(name)\n",
    "            else:\n",
    "                cvaltask.append(cX)\n",
    "                Yv.append(name)\n",
    "        Xt.append(np.array(ctraintask))\n",
    "        Xv.append(np.array(cvaltask))\n",
    "\n",
    "def testAccuracy(model, N, loops):\n",
    "    right = 0\n",
    "    wrong = 0\n",
    "    for _ in range(loops):\n",
    "        basecategory = random.randint(0, Xv.shape[0]-1)\n",
    "        baseTask = Xv[basecategory][0].reshape(60, 30, 1)\n",
    "        baseProb = model.predict([np.array([baseTask]), np.array([Xt[basecategory][random.randint(0, Xt[basecategory].shape[0]-1)].reshape(60, 30, 1)])])[0][0]\n",
    "        for i in range(0, N):\n",
    "            ccategory = (basecategory+random.randint(1, Xt.shape[0]))%Xt.shape[0]\n",
    "            cindex = random.randint(0, Xt[ccategory].shape[0]-1)\n",
    "            ctask = Xt[ccategory][cindex] \n",
    "            cProb = model.predict([np.array([baseTask]), np.array([ctask.reshape(60, 30, 1)])])\n",
    "            if cProb[0][0] > baseProb:\n",
    "                wrong += 1\n",
    "                break\n",
    "        else:\n",
    "            right += 1\n",
    "    return (100*right)/loops\n",
    "\n",
    "def getBatch(batchsize, training):\n",
    "    if training:\n",
    "        X = Xt\n",
    "        Y = Yt\n",
    "    else:\n",
    "        X = Xv\n",
    "        Y = Yv\n",
    "    categories = rng.choice(X.shape[0], size=(batchsize,), replace=False)\n",
    "    targets = np.zeros((batchsize,))\n",
    "    targets[batchsize//2:] = 1\n",
    "    pairs=[np.zeros((batchsize, 60, 30, 1)) for i in range(2)]\n",
    "    for i in range(batchsize):\n",
    "        category = categories[i]\n",
    "        pairs[0][i,:,:,:] = X[category][random.randint(0, X[category].shape[0]-1)].reshape(60, 30, 1)\n",
    "        if i >= batchsize // 2:\n",
    "            category_2 = category\n",
    "        else:\n",
    "            category_2 = (category + random.randint(1, X.shape[0])) % X.shape[0] \n",
    "        pairs[1][i,:,:,:] = X[category_2][random.randint(0, X[category_2].shape[0]-1)].reshape(60, 30, 1)\n",
    "    return pairs, targets\n",
    "\n",
    "def generate(batchsize, training):\n",
    "    while True:\n",
    "        pairs, targets = getBatch(batchsize, training)\n",
    "        yield (pairs, targets)"
   ]
  },
  {
   "cell_type": "markdown",
   "metadata": {},
   "source": [
    "Load data."
   ]
  },
  {
   "cell_type": "code",
   "execution_count": 9,
   "metadata": {},
   "outputs": [],
   "source": [
    "with os.scandir('training/') as entries:\n",
    "    for entry in entries:\n",
    "        load(\"training/\"+entry.name)\n",
    "\n",
    "with os.scandir('test/') as entries:\n",
    "    for entry in entries:\n",
    "        load(\"test/\"+entry.name)\n",
    "\n",
    "Xt = np.array(Xt)\n",
    "Xv = np.array(Xv)\n",
    "Yt = np.array(Yt)\n",
    "Yv = np.array(Yv)"
   ]
  },
  {
   "cell_type": "markdown",
   "metadata": {},
   "source": [
    "Define model."
   ]
  },
  {
   "cell_type": "code",
   "execution_count": 10,
   "metadata": {},
   "outputs": [],
   "source": [
    "# This function is based off the example in this tutorial: https://towardsdatascience.com/one-shot-learning-with-siamese-networks-using-keras-17f34e75bb3d\n",
    "def get_siamese_model(input_shape):\n",
    "    left_input = Input(input_shape)\n",
    "    right_input = Input(input_shape)\n",
    "\n",
    "    model = Sequential()\n",
    "    model.add(Conv2D(64, (10,10), padding=\"same\", activation='relu', input_shape=input_shape))\n",
    "    model.add(MaxPooling2D())\n",
    "    model.add(Conv2D(128, (7,7), padding=\"same\", activation='relu'))\n",
    "    model.add(MaxPooling2D())\n",
    "    model.add(Conv2D(128, (4,4), padding=\"same\", activation='relu'))\n",
    "    model.add(MaxPooling2D())\n",
    "    model.add(Conv2D(256, (4,4), padding=\"same\", activation='relu'))\n",
    "    model.add(Flatten())\n",
    "    model.add(Dense(4096, activation='sigmoid'))\n",
    "\n",
    "    encoded_l = model(left_input)\n",
    "    encoded_r = model(right_input)\n",
    "    L1_layer = Lambda(lambda tensors:K.abs(tensors[0] - tensors[1]))\n",
    "    L1_distance = L1_layer([encoded_l, encoded_r])\n",
    "    prediction = Dense(1,activation='sigmoid')(L1_distance)\n",
    "    siamese_net = Model(inputs=[left_input,right_input],outputs=prediction)\n",
    "\n",
    "    return siamese_net"
   ]
  },
  {
   "cell_type": "markdown",
   "metadata": {},
   "source": [
    "Train model."
   ]
  },
  {
   "cell_type": "code",
   "execution_count": 11,
   "metadata": {
    "scrolled": true
   },
   "outputs": [
    {
     "name": "stdout",
     "output_type": "stream",
     "text": [
      "0.0\n",
      "WARNING:tensorflow:From /home/harvey/.local/lib/python3.6/site-packages/tensorflow/python/ops/math_grad.py:1250: add_dispatch_support.<locals>.wrapper (from tensorflow.python.ops.array_ops) is deprecated and will be removed in a future version.\n",
      "Instructions for updating:\n",
      "Use tf.where in 2.0, which has the same broadcast rule as np.where\n",
      "50/50 [==============================] - 11s 227ms/step - loss: 0.5585\n",
      "New Best: 33.333333333333336\n",
      "50/50 [==============================] - 10s 198ms/step - loss: 0.4753\n",
      "New Best: 38.888888888888886\n",
      "50/50 [==============================] - 10s 198ms/step - loss: 0.4618\n",
      "50/50 [==============================] - 10s 198ms/step - loss: 0.4441\n",
      "New Best: 44.44444444444444\n",
      "50/50 [==============================] - 10s 198ms/step - loss: 0.4225\n",
      "50/50 [==============================] - 10s 198ms/step - loss: 0.4172\n",
      "New Best: 50.0\n",
      "50/50 [==============================] - 10s 198ms/step - loss: 0.3940\n",
      "New Best: 55.55555555555556\n",
      "50/50 [==============================] - 10s 198ms/step - loss: 0.3971\n",
      "50/50 [==============================] - 10s 198ms/step - loss: 0.3715\n",
      "50/50 [==============================] - 10s 198ms/step - loss: 0.3551\n",
      "50/50 [==============================] - 10s 199ms/step - loss: 0.3603\n",
      "50/50 [==============================] - 10s 199ms/step - loss: 0.3483\n",
      "50/50 [==============================] - 10s 199ms/step - loss: 0.3326\n",
      "50/50 [==============================] - 10s 199ms/step - loss: 0.3279\n",
      "New Best: 61.111111111111114\n",
      "50/50 [==============================] - 10s 199ms/step - loss: 0.3222\n",
      "New Best: 66.66666666666667\n",
      "50/50 [==============================] - 10s 199ms/step - loss: 0.3166\n",
      "50/50 [==============================] - 10s 199ms/step - loss: 0.3077\n",
      "50/50 [==============================] - 10s 199ms/step - loss: 0.3026\n",
      "50/50 [==============================] - 10s 199ms/step - loss: 0.2943\n",
      "50/50 [==============================] - 10s 199ms/step - loss: 0.2940\n",
      "50/50 [==============================] - 10s 198ms/step - loss: 0.2835\n",
      "50/50 [==============================] - 10s 199ms/step - loss: 0.2884\n",
      "New Best: 72.22222222222223\n",
      "50/50 [==============================] - 10s 199ms/step - loss: 0.2755\n",
      "50/50 [==============================] - 10s 199ms/step - loss: 0.2660\n",
      "New Best: 77.77777777777777\n",
      "50/50 [==============================] - 10s 199ms/step - loss: 0.2600\n",
      "50/50 [==============================] - 10s 199ms/step - loss: 0.2689\n",
      "50/50 [==============================] - 10s 199ms/step - loss: 0.2559\n",
      "50/50 [==============================] - 10s 199ms/step - loss: 0.2524\n",
      "50/50 [==============================] - 10s 200ms/step - loss: 0.2516\n",
      "50/50 [==============================] - 10s 199ms/step - loss: 0.2479\n",
      "50/50 [==============================] - 10s 199ms/step - loss: 0.2462\n",
      "50/50 [==============================] - 10s 199ms/step - loss: 0.2487\n",
      "50/50 [==============================] - 10s 200ms/step - loss: 0.2371\n",
      "50/50 [==============================] - 10s 200ms/step - loss: 0.2384\n",
      "50/50 [==============================] - 10s 200ms/step - loss: 0.2332\n",
      "50/50 [==============================] - 10s 199ms/step - loss: 0.2317\n",
      "50/50 [==============================] - 10s 200ms/step - loss: 0.2335\n",
      "50/50 [==============================] - 10s 200ms/step - loss: 0.2327\n",
      "50/50 [==============================] - 10s 199ms/step - loss: 0.2304\n",
      "50/50 [==============================] - 10s 199ms/step - loss: 0.2241\n",
      "50/50 [==============================] - 10s 200ms/step - loss: 0.2266\n",
      "50/50 [==============================] - 10s 199ms/step - loss: 0.2199\n",
      "50/50 [==============================] - 10s 199ms/step - loss: 0.2161\n",
      "50/50 [==============================] - 10s 200ms/step - loss: 0.2206\n",
      "50/50 [==============================] - 10s 200ms/step - loss: 0.2184\n",
      "50/50 [==============================] - 10s 200ms/step - loss: 0.2209\n",
      "50/50 [==============================] - 10s 200ms/step - loss: 0.2149\n",
      "50/50 [==============================] - 10s 200ms/step - loss: 0.2083\n",
      "New Best: 83.33333333333333\n",
      "50/50 [==============================] - 10s 200ms/step - loss: 0.2084\n",
      "50/50 [==============================] - 10s 200ms/step - loss: 0.2055\n",
      "50/50 [==============================] - 10s 200ms/step - loss: 0.1997\n",
      "50/50 [==============================] - 10s 200ms/step - loss: 0.2041\n",
      "50/50 [==============================] - 10s 199ms/step - loss: 0.2053\n",
      "50/50 [==============================] - 10s 199ms/step - loss: 0.1983\n",
      "50/50 [==============================] - 10s 200ms/step - loss: 0.2036\n",
      "50/50 [==============================] - 10s 200ms/step - loss: 0.2009\n",
      "50/50 [==============================] - 10s 200ms/step - loss: 0.2036\n",
      "50/50 [==============================] - 10s 200ms/step - loss: 0.2036\n",
      "50/50 [==============================] - 10s 200ms/step - loss: 0.1968\n",
      "50/50 [==============================] - 10s 200ms/step - loss: 0.2012\n",
      "50/50 [==============================] - 10s 200ms/step - loss: 0.1997\n",
      "50/50 [==============================] - 10s 200ms/step - loss: 0.1986\n",
      "50/50 [==============================] - 10s 200ms/step - loss: 0.1964\n",
      "50/50 [==============================] - 10s 200ms/step - loss: 0.1974\n",
      "50/50 [==============================] - 10s 200ms/step - loss: 0.1898\n",
      "50/50 [==============================] - 10s 200ms/step - loss: 0.1904\n",
      "50/50 [==============================] - 10s 200ms/step - loss: 0.1894\n",
      "50/50 [==============================] - 10s 200ms/step - loss: 0.1910\n",
      "50/50 [==============================] - 10s 200ms/step - loss: 0.1880\n",
      "50/50 [==============================] - 10s 200ms/step - loss: 0.1933\n",
      "50/50 [==============================] - 10s 200ms/step - loss: 0.1897\n",
      "New Best: 88.88888888888889\n",
      "50/50 [==============================] - 10s 200ms/step - loss: 0.1879\n",
      "50/50 [==============================] - 10s 200ms/step - loss: 0.1915\n",
      "50/50 [==============================] - 10s 200ms/step - loss: 0.1838\n",
      "New Best: 94.44444444444444\n",
      "50/50 [==============================] - 10s 200ms/step - loss: 0.1834\n",
      "50/50 [==============================] - 10s 200ms/step - loss: 0.1777\n",
      "50/50 [==============================] - 10s 199ms/step - loss: 0.1849\n",
      "50/50 [==============================] - 10s 200ms/step - loss: 0.1817\n",
      "50/50 [==============================] - 10s 200ms/step - loss: 0.1806\n",
      "50/50 [==============================] - 10s 200ms/step - loss: 0.1824\n",
      "50/50 [==============================] - 10s 199ms/step - loss: 0.1779\n",
      "50/50 [==============================] - 10s 199ms/step - loss: 0.1809\n",
      "50/50 [==============================] - 10s 199ms/step - loss: 0.1830\n",
      "50/50 [==============================] - 10s 200ms/step - loss: 0.1802\n",
      "50/50 [==============================] - 10s 199ms/step - loss: 0.1794\n",
      "50/50 [==============================] - 10s 199ms/step - loss: 0.1830\n",
      "50/50 [==============================] - 10s 199ms/step - loss: 0.1716\n",
      "50/50 [==============================] - 10s 199ms/step - loss: 0.1864\n",
      "50/50 [==============================] - 10s 200ms/step - loss: 0.1743\n",
      "50/50 [==============================] - 10s 199ms/step - loss: 0.1685\n",
      "50/50 [==============================] - 10s 199ms/step - loss: 0.1786\n",
      "50/50 [==============================] - 10s 199ms/step - loss: 0.1724\n",
      "50/50 [==============================] - 10s 199ms/step - loss: 0.1767\n",
      "50/50 [==============================] - 10s 199ms/step - loss: 0.1784\n",
      "50/50 [==============================] - 10s 199ms/step - loss: 0.1780\n",
      "50/50 [==============================] - 10s 199ms/step - loss: 0.1715\n",
      "50/50 [==============================] - 10s 199ms/step - loss: 0.1694\n",
      "50/50 [==============================] - 10s 199ms/step - loss: 0.1718\n",
      "50/50 [==============================] - 10s 199ms/step - loss: 0.1630\n",
      "50/50 [==============================] - 10s 199ms/step - loss: 0.1689\n"
     ]
    }
   ],
   "source": [
    "model = get_siamese_model((60, 30, 1))\n",
    "optimizer = Adam(lr = 0.00006)\n",
    "model.compile(loss=\"binary_crossentropy\", optimizer=optimizer)\n",
    "print(testAccuracy(model, 10, 18))\n",
    "\n",
    "def trainmodel(epo):\n",
    "    bestAccuracy = 0\n",
    "\n",
    "    for i in range(epo):\n",
    "        model.fit_generator(generate(128, True), epochs=1, steps_per_epoch=50)\n",
    "        accuracy = testAccuracy(model, 20, 18)\n",
    "        if accuracy > bestAccuracy:\n",
    "            model.save_weights(\"bestCheckpoint/best\")\n",
    "            bestAccuracy = accuracy\n",
    "            print(\"New Best: \"+str(bestAccuracy))\n",
    "\n",
    "trainmodel(100)"
   ]
  },
  {
   "cell_type": "code",
   "execution_count": 19,
   "metadata": {},
   "outputs": [
    {
     "data": {
      "image/png": "[encoded data removed]",
      "text/plain": [
       "<Figure size 432x288 with 2 Axes>"
      ]
     },
     "metadata": {
      "needs_background": "light"
     },
     "output_type": "display_data"
    },
    {
     "data": {
      "image/png": "[encoded data removed]",
      "text/plain": [
       "<Figure size 432x288 with 2 Axes>"
      ]
     },
     "metadata": {
      "needs_background": "light"
     },
     "output_type": "display_data"
    },
    {
     "name": "stdout",
     "output_type": "stream",
     "text": [
      "tf.Tensor([[0.]], shape=(1, 1), dtype=float32)\n"
     ]
    }
   ],
   "source": [
    "n = 12\n",
    "k = 10\n",
    "ctask1 = Xt[n][0].reshape(60, 30, 1)\n",
    "plt.imshow(ctask1.reshape(60, 30))\n",
    "plt.colorbar()\n",
    "plt.show()\n",
    "ctask2 = Xv[k][0].reshape(60, 30, 1)\n",
    "plt.imshow(ctask2.reshape(60, 30))\n",
    "plt.colorbar()\n",
    "plt.show()\n",
    "taskin = []\n",
    "taskin.append(tf.convert_to_tensor(np.array([ctask1.astype(np.float32)])))\n",
    "taskin.append(tf.convert_to_tensor(np.array([ctask2.astype(np.float32)])))\n",
    "\n",
    "print(model(taskin))"
   ]
  },
  {
   "cell_type": "markdown",
   "metadata": {},
   "source": [
    "Adversarial Generation."
   ]
  },
  {
   "cell_type": "code",
   "execution_count": 25,
   "metadata": {},
   "outputs": [
    {
     "data": {
      "text/plain": [
       "<tensorflow.python.training.tracking.util.CheckpointLoadStatus at 0x7f30d876c860>"
      ]
     },
     "execution_count": 25,
     "metadata": {},
     "output_type": "execute_result"
    }
   ],
   "source": [
    "import matplotlib.pyplot as plt\n",
    "model = get_siamese_model((60, 30, 1))\n",
    "model.load_weights(\"bestCheckpoint/best\")"
   ]
  },
  {
   "cell_type": "code",
   "execution_count": 103,
   "metadata": {},
   "outputs": [],
   "source": [
    "#sampletask = [np.array([AI.Xt[0][0].reshape(60,30,1)]), np.array([AI.Xt[1][1].reshape(60,30,1)])]\n",
    "loss_object = tf.keras.losses.BinaryCrossentropy()\n",
    "def getGradients(taskin):\n",
    "    taskin[0] = tf.convert_to_tensor(taskin[0].astype(np.float32))\n",
    "    taskin[1] = tf.convert_to_tensor(taskin[1].astype(np.float32))\n",
    "    with tf.GradientTape() as tape:\n",
    "        tape.watch(taskin)\n",
    "        prediction = model(taskin)\n",
    "        loss = loss_object(tf.convert_to_tensor(np.array([1]).reshape(1, 1)), prediction)\n",
    "    gradient = tape.gradient(loss, taskin)\n",
    "    #signs = tf.sign(gradient)\n",
    "    return [gradient[1].numpy()[0][30:], loss, prediction]\n",
    "\n",
    "def generateTask(examples, cin, l, accthresh, verbose):\n",
    "    cin = cin.astype(np.float64)\n",
    "    lasterr = 99999\n",
    "    for i in range(5000):\n",
    "        grads = np.zeros((30, 30, 1))\n",
    "        err = 0\n",
    "        acc = 0\n",
    "        for e in examples:\n",
    "            sampletask = [np.array([e]), np.array([cin.reshape(60,30,1)])]\n",
    "            result = getGradients(sampletask)\n",
    "            grads += result[0]\n",
    "            err += result[1].numpy()\n",
    "            acc += result[2].numpy()[0][0]\n",
    "        grads /= len(examples)\n",
    "        err /= len(examples)\n",
    "        acc /= len(examples)\n",
    "        grads *= l\n",
    "        adjustment = np.zeros((60,30,1))\n",
    "        adjustment[30:, :, :] = grads\n",
    "        cin -= adjustment\n",
    "        np.clip(cin, -1, 9, out=cin)\n",
    "        if verbose:\n",
    "            if i%100 == 0:\n",
    "                print(\"EPOCH \"+str(i)+\": \"+str(err)+\" \"+str(acc))\n",
    "            if i%500 == 0:\n",
    "                out = cin.reshape(60, 30)[30:, :]\n",
    "                plt.imshow(out)\n",
    "                plt.colorbar()\n",
    "                plt.show()\n",
    "        if acc*100 > accthresh:\n",
    "            if verbose:\n",
    "                print(\"STOPPING AT \"+str(err))\n",
    "            break\n",
    "    out = cin.reshape(60, 30)[30:, :]\n",
    "    return out\n",
    "\n",
    "def generateExample(taskclass):\n",
    "    examples = []\n",
    "    for i in range(Xt[taskclass].shape[0]):\n",
    "        examples.append(Xt[taskclass][i].reshape(60,30,1).astype(np.float64))\n",
    "    cin = np.array([Xv[taskclass][0].reshape(60,30,1)])\n",
    "    cin[0][30:, :, :] = cin[0][:30, :, :]\n",
    "    out = generateTask(examples, cin, 10, 50, False)\n",
    "    cout = cin[0].reshape(60, 30)\n",
    "    cout[30:, :] = out\n",
    "    return cout"
   ]
  },
  {
   "cell_type": "code",
   "execution_count": 108,
   "metadata": {},
   "outputs": [
    {
     "name": "stdout",
     "output_type": "stream",
     "text": [
      "24.993913946673274\n"
     ]
    },
    {
     "data": {
      "image/png": "[encoded data removed]",
      "text/plain": [
       "<Figure size 432x288 with 2 Axes>"
      ]
     },
     "metadata": {
      "needs_background": "light"
     },
     "output_type": "display_data"
    }
   ],
   "source": [
    "from timeit import default_timer as timer\n",
    "start = timer()\n",
    "out = generateExample(2)\n",
    "end = timer()\n",
    "print((end-start)*500)\n",
    "plt.imshow(out)\n",
    "plt.colorbar()\n",
    "plt.show()"
   ]
  },
  {
   "cell_type": "code",
   "execution_count": null,
   "metadata": {},
   "outputs": [],
   "source": [
    "Xadv = []\n",
    "Yadv = []\n",
    "for i in range(Xt.shape[0]):"
   ]
  },
  {
   "cell_type": "code",
   "execution_count": 85,
   "metadata": {},
   "outputs": [
    {
     "name": "stdout",
     "output_type": "stream",
     "text": [
      "500\n",
      "2\n"
     ]
    },
    {
     "data": {
      "image/png": "[encoded data removed]",
      "text/plain": [
       "<Figure size 432x288 with 2 Axes>"
      ]
     },
     "metadata": {
      "needs_background": "light"
     },
     "output_type": "display_data"
    }
   ],
   "source": [
    "print(Xt.shape[0])\n",
    "n = 1\n",
    "print(len(Xt[n]))\n",
    "plt.imshow(Xt[n][1].reshape(60, 30))\n",
    "plt.colorbar()\n",
    "plt.show()"
   ]
  },
  {
   "cell_type": "code",
   "execution_count": 64,
   "metadata": {},
   "outputs": [
    {
     "data": {
      "image/png": "[encoded data removed]",
      "text/plain": [
       "<Figure size 432x288 with 2 Axes>"
      ]
     },
     "metadata": {
      "needs_background": "light"
     },
     "output_type": "display_data"
    },
    {
     "data": {
      "image/png": "[encoded data removed]",
      "text/plain": [
       "<Figure size 432x288 with 2 Axes>"
      ]
     },
     "metadata": {
      "needs_background": "light"
     },
     "output_type": "display_data"
    },
    {
     "data": {
      "image/png": "[encoded data removed]",
      "text/plain": [
       "<Figure size 432x288 with 2 Axes>"
      ]
     },
     "metadata": {
      "needs_background": "light"
     },
     "output_type": "display_data"
    },
    {
     "data": {
      "image/png": "[encoded data removed]",
      "text/plain": [
       "<Figure size 432x288 with 2 Axes>"
      ]
     },
     "metadata": {
      "needs_background": "light"
     },
     "output_type": "display_data"
    },
    {
     "name": "stdout",
     "output_type": "stream",
     "text": [
      "EPOCH 0: 2.472279906272888\n"
     ]
    },
    {
     "data": {
      "image/png": "[encoded data removed]",
      "text/plain": [
       "<Figure size 432x288 with 2 Axes>"
      ]
     },
     "metadata": {
      "needs_background": "light"
     },
     "output_type": "display_data"
    },
    {
     "name": "stdout",
     "output_type": "stream",
     "text": [
      "EPOCH 100: 0.01406464702449739\n",
      "EPOCH 200: 0.01163063629064709\n",
      "EPOCH 300: 0.010486240731552243\n",
      "STOPPING AT 0.010486240731552243\n"
     ]
    },
    {
     "data": {
      "image/png": "[encoded data removed]",
      "text/plain": [
       "<Figure size 432x288 with 2 Axes>"
      ]
     },
     "metadata": {
      "needs_background": "light"
     },
     "output_type": "display_data"
    }
   ],
   "source": [
    "plt.imshow(Xt[n][0].reshape(60, 30))\n",
    "plt.colorbar()\n",
    "plt.show()\n",
    "plt.imshow(Xt[n][1].reshape(60, 30))\n",
    "plt.colorbar()\n",
    "plt.show()\n",
    "plt.imshow(Xv[n][0].reshape(60, 30))\n",
    "plt.colorbar()\n",
    "plt.show()\n",
    "examples = [Xt[n][0].reshape(60,30,1).astype(np.float64), Xt[n][1].reshape(60,30,1).astype(np.float64)] \n",
    "cin = np.array([Xv[n][0].reshape(60,30,1)])\n",
    "cin[0][30:, :, :] = cin[0][:30, :, :]\n",
    "#cin[0][30:, :, :] = np.random.randint(-1, 10, size=(30, 30, 1))\n",
    "#cin[0][30:, :, :] = np.zeros((30, 30, 1))\n",
    "#sampletask[1][0][30:, :, :] = np.random.randint(-1, 11, size=(30, 30, 1))\n",
    "plt.imshow(cin.reshape(60, 30))\n",
    "plt.colorbar()\n",
    "plt.show()\n",
    "out = generateTask(examples, cin, 10, 40000)\n",
    "plt.imshow(out)\n",
    "plt.colorbar()\n",
    "plt.show()"
   ]
  },
  {
   "cell_type": "code",
   "execution_count": null,
   "metadata": {},
   "outputs": [],
   "source": []
  }
 ],
 "metadata": {
  "kernelspec": {
   "display_name": "Python 3",
   "language": "python",
   "name": "python3"
  },
  "language_info": {
   "codemirror_mode": {
    "name": "ipython",
    "version": 3
   },
   "file_extension": ".py",
   "mimetype": "text/x-python",
   "name": "python",
   "nbconvert_exporter": "python",
   "pygments_lexer": "ipython3",
   "version": "3.6.9"
  }
 },
 "nbformat": 4,
 "nbformat_minor": 2
}
